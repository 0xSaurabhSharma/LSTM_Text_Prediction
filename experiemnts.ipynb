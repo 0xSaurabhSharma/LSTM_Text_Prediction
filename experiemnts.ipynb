{
  "nbformat": 4,
  "nbformat_minor": 0,
  "metadata": {
    "colab": {
      "provenance": []
    },
    "kernelspec": {
      "name": "python3",
      "display_name": "Python 3"
    },
    "language_info": {
      "name": "python"
    }
  },
  "cells": [
    {
      "cell_type": "code",
      "execution_count": null,
      "metadata": {
        "colab": {
          "base_uri": "https://localhost:8080/"
        },
        "id": "nAEuamRF-Kni",
        "outputId": "130458fe-06d6-4843-b781-8295c7576f9e",
        "collapsed": true
      },
      "outputs": [
        {
          "output_type": "stream",
          "name": "stdout",
          "text": [
            "Requirement already satisfied: tensorflow in /usr/local/lib/python3.11/dist-packages (from -r /content/drive/MyDrive/GenAI_Udemy_Projects/LSTM_Text_Prediction/requirements.txt (line 1)) (2.15.0)\n",
            "Requirement already satisfied: pandas in /usr/local/lib/python3.11/dist-packages (from -r /content/drive/MyDrive/GenAI_Udemy_Projects/LSTM_Text_Prediction/requirements.txt (line 2)) (2.2.2)\n",
            "Requirement already satisfied: numpy in /usr/local/lib/python3.11/dist-packages (from -r /content/drive/MyDrive/GenAI_Udemy_Projects/LSTM_Text_Prediction/requirements.txt (line 3)) (1.26.4)\n",
            "Requirement already satisfied: scikit-learn in /usr/local/lib/python3.11/dist-packages (from -r /content/drive/MyDrive/GenAI_Udemy_Projects/LSTM_Text_Prediction/requirements.txt (line 4)) (1.6.1)\n",
            "Requirement already satisfied: tensorboard in /usr/local/lib/python3.11/dist-packages (from -r /content/drive/MyDrive/GenAI_Udemy_Projects/LSTM_Text_Prediction/requirements.txt (line 5)) (2.15.2)\n",
            "Requirement already satisfied: matplotlib in /usr/local/lib/python3.11/dist-packages (from -r /content/drive/MyDrive/GenAI_Udemy_Projects/LSTM_Text_Prediction/requirements.txt (line 6)) (3.10.0)\n",
            "Requirement already satisfied: streamlit in /usr/local/lib/python3.11/dist-packages (from -r /content/drive/MyDrive/GenAI_Udemy_Projects/LSTM_Text_Prediction/requirements.txt (line 7)) (1.41.1)\n",
            "Requirement already satisfied: scikeras in /usr/local/lib/python3.11/dist-packages (from -r /content/drive/MyDrive/GenAI_Udemy_Projects/LSTM_Text_Prediction/requirements.txt (line 8)) (0.12.0)\n",
            "Requirement already satisfied: absl-py>=1.0.0 in /usr/local/lib/python3.11/dist-packages (from tensorflow->-r /content/drive/MyDrive/GenAI_Udemy_Projects/LSTM_Text_Prediction/requirements.txt (line 1)) (1.4.0)\n",
            "Requirement already satisfied: astunparse>=1.6.0 in /usr/local/lib/python3.11/dist-packages (from tensorflow->-r /content/drive/MyDrive/GenAI_Udemy_Projects/LSTM_Text_Prediction/requirements.txt (line 1)) (1.6.3)\n",
            "Requirement already satisfied: flatbuffers>=23.5.26 in /usr/local/lib/python3.11/dist-packages (from tensorflow->-r /content/drive/MyDrive/GenAI_Udemy_Projects/LSTM_Text_Prediction/requirements.txt (line 1)) (25.1.24)\n",
            "Requirement already satisfied: gast!=0.5.0,!=0.5.1,!=0.5.2,>=0.2.1 in /usr/local/lib/python3.11/dist-packages (from tensorflow->-r /content/drive/MyDrive/GenAI_Udemy_Projects/LSTM_Text_Prediction/requirements.txt (line 1)) (0.6.0)\n",
            "Requirement already satisfied: google-pasta>=0.1.1 in /usr/local/lib/python3.11/dist-packages (from tensorflow->-r /content/drive/MyDrive/GenAI_Udemy_Projects/LSTM_Text_Prediction/requirements.txt (line 1)) (0.2.0)\n",
            "Requirement already satisfied: h5py>=2.9.0 in /usr/local/lib/python3.11/dist-packages (from tensorflow->-r /content/drive/MyDrive/GenAI_Udemy_Projects/LSTM_Text_Prediction/requirements.txt (line 1)) (3.12.1)\n",
            "Requirement already satisfied: libclang>=13.0.0 in /usr/local/lib/python3.11/dist-packages (from tensorflow->-r /content/drive/MyDrive/GenAI_Udemy_Projects/LSTM_Text_Prediction/requirements.txt (line 1)) (18.1.1)\n",
            "Requirement already satisfied: ml-dtypes~=0.2.0 in /usr/local/lib/python3.11/dist-packages (from tensorflow->-r /content/drive/MyDrive/GenAI_Udemy_Projects/LSTM_Text_Prediction/requirements.txt (line 1)) (0.2.0)\n",
            "Requirement already satisfied: opt-einsum>=2.3.2 in /usr/local/lib/python3.11/dist-packages (from tensorflow->-r /content/drive/MyDrive/GenAI_Udemy_Projects/LSTM_Text_Prediction/requirements.txt (line 1)) (3.4.0)\n",
            "Requirement already satisfied: packaging in /usr/local/lib/python3.11/dist-packages (from tensorflow->-r /content/drive/MyDrive/GenAI_Udemy_Projects/LSTM_Text_Prediction/requirements.txt (line 1)) (24.2)\n",
            "Requirement already satisfied: protobuf!=4.21.0,!=4.21.1,!=4.21.2,!=4.21.3,!=4.21.4,!=4.21.5,<5.0.0dev,>=3.20.3 in /usr/local/lib/python3.11/dist-packages (from tensorflow->-r /content/drive/MyDrive/GenAI_Udemy_Projects/LSTM_Text_Prediction/requirements.txt (line 1)) (4.25.6)\n",
            "Requirement already satisfied: setuptools in /usr/local/lib/python3.11/dist-packages (from tensorflow->-r /content/drive/MyDrive/GenAI_Udemy_Projects/LSTM_Text_Prediction/requirements.txt (line 1)) (75.1.0)\n",
            "Requirement already satisfied: six>=1.12.0 in /usr/local/lib/python3.11/dist-packages (from tensorflow->-r /content/drive/MyDrive/GenAI_Udemy_Projects/LSTM_Text_Prediction/requirements.txt (line 1)) (1.17.0)\n",
            "Requirement already satisfied: termcolor>=1.1.0 in /usr/local/lib/python3.11/dist-packages (from tensorflow->-r /content/drive/MyDrive/GenAI_Udemy_Projects/LSTM_Text_Prediction/requirements.txt (line 1)) (2.5.0)\n",
            "Requirement already satisfied: typing-extensions>=3.6.6 in /usr/local/lib/python3.11/dist-packages (from tensorflow->-r /content/drive/MyDrive/GenAI_Udemy_Projects/LSTM_Text_Prediction/requirements.txt (line 1)) (4.12.2)\n",
            "Requirement already satisfied: wrapt<1.15,>=1.11.0 in /usr/local/lib/python3.11/dist-packages (from tensorflow->-r /content/drive/MyDrive/GenAI_Udemy_Projects/LSTM_Text_Prediction/requirements.txt (line 1)) (1.14.1)\n",
            "Requirement already satisfied: tensorflow-io-gcs-filesystem>=0.23.1 in /usr/local/lib/python3.11/dist-packages (from tensorflow->-r /content/drive/MyDrive/GenAI_Udemy_Projects/LSTM_Text_Prediction/requirements.txt (line 1)) (0.37.1)\n",
            "Requirement already satisfied: grpcio<2.0,>=1.24.3 in /usr/local/lib/python3.11/dist-packages (from tensorflow->-r /content/drive/MyDrive/GenAI_Udemy_Projects/LSTM_Text_Prediction/requirements.txt (line 1)) (1.70.0)\n",
            "Requirement already satisfied: tensorflow-estimator<2.16,>=2.15.0 in /usr/local/lib/python3.11/dist-packages (from tensorflow->-r /content/drive/MyDrive/GenAI_Udemy_Projects/LSTM_Text_Prediction/requirements.txt (line 1)) (2.15.0)\n",
            "Requirement already satisfied: keras<2.16,>=2.15.0 in /usr/local/lib/python3.11/dist-packages (from tensorflow->-r /content/drive/MyDrive/GenAI_Udemy_Projects/LSTM_Text_Prediction/requirements.txt (line 1)) (2.15.0)\n",
            "Requirement already satisfied: python-dateutil>=2.8.2 in /usr/local/lib/python3.11/dist-packages (from pandas->-r /content/drive/MyDrive/GenAI_Udemy_Projects/LSTM_Text_Prediction/requirements.txt (line 2)) (2.8.2)\n",
            "Requirement already satisfied: pytz>=2020.1 in /usr/local/lib/python3.11/dist-packages (from pandas->-r /content/drive/MyDrive/GenAI_Udemy_Projects/LSTM_Text_Prediction/requirements.txt (line 2)) (2024.2)\n",
            "Requirement already satisfied: tzdata>=2022.7 in /usr/local/lib/python3.11/dist-packages (from pandas->-r /content/drive/MyDrive/GenAI_Udemy_Projects/LSTM_Text_Prediction/requirements.txt (line 2)) (2025.1)\n",
            "Requirement already satisfied: scipy>=1.6.0 in /usr/local/lib/python3.11/dist-packages (from scikit-learn->-r /content/drive/MyDrive/GenAI_Udemy_Projects/LSTM_Text_Prediction/requirements.txt (line 4)) (1.13.1)\n",
            "Requirement already satisfied: joblib>=1.2.0 in /usr/local/lib/python3.11/dist-packages (from scikit-learn->-r /content/drive/MyDrive/GenAI_Udemy_Projects/LSTM_Text_Prediction/requirements.txt (line 4)) (1.4.2)\n",
            "Requirement already satisfied: threadpoolctl>=3.1.0 in /usr/local/lib/python3.11/dist-packages (from scikit-learn->-r /content/drive/MyDrive/GenAI_Udemy_Projects/LSTM_Text_Prediction/requirements.txt (line 4)) (3.5.0)\n",
            "Requirement already satisfied: google-auth<3,>=1.6.3 in /usr/local/lib/python3.11/dist-packages (from tensorboard->-r /content/drive/MyDrive/GenAI_Udemy_Projects/LSTM_Text_Prediction/requirements.txt (line 5)) (2.27.0)\n",
            "Requirement already satisfied: google-auth-oauthlib<2,>=0.5 in /usr/local/lib/python3.11/dist-packages (from tensorboard->-r /content/drive/MyDrive/GenAI_Udemy_Projects/LSTM_Text_Prediction/requirements.txt (line 5)) (1.2.1)\n",
            "Requirement already satisfied: markdown>=2.6.8 in /usr/local/lib/python3.11/dist-packages (from tensorboard->-r /content/drive/MyDrive/GenAI_Udemy_Projects/LSTM_Text_Prediction/requirements.txt (line 5)) (3.7)\n",
            "Requirement already satisfied: requests<3,>=2.21.0 in /usr/local/lib/python3.11/dist-packages (from tensorboard->-r /content/drive/MyDrive/GenAI_Udemy_Projects/LSTM_Text_Prediction/requirements.txt (line 5)) (2.32.3)\n",
            "Requirement already satisfied: tensorboard-data-server<0.8.0,>=0.7.0 in /usr/local/lib/python3.11/dist-packages (from tensorboard->-r /content/drive/MyDrive/GenAI_Udemy_Projects/LSTM_Text_Prediction/requirements.txt (line 5)) (0.7.2)\n",
            "Requirement already satisfied: werkzeug>=1.0.1 in /usr/local/lib/python3.11/dist-packages (from tensorboard->-r /content/drive/MyDrive/GenAI_Udemy_Projects/LSTM_Text_Prediction/requirements.txt (line 5)) (3.1.3)\n",
            "Requirement already satisfied: contourpy>=1.0.1 in /usr/local/lib/python3.11/dist-packages (from matplotlib->-r /content/drive/MyDrive/GenAI_Udemy_Projects/LSTM_Text_Prediction/requirements.txt (line 6)) (1.3.1)\n",
            "Requirement already satisfied: cycler>=0.10 in /usr/local/lib/python3.11/dist-packages (from matplotlib->-r /content/drive/MyDrive/GenAI_Udemy_Projects/LSTM_Text_Prediction/requirements.txt (line 6)) (0.12.1)\n",
            "Requirement already satisfied: fonttools>=4.22.0 in /usr/local/lib/python3.11/dist-packages (from matplotlib->-r /content/drive/MyDrive/GenAI_Udemy_Projects/LSTM_Text_Prediction/requirements.txt (line 6)) (4.55.7)\n",
            "Requirement already satisfied: kiwisolver>=1.3.1 in /usr/local/lib/python3.11/dist-packages (from matplotlib->-r /content/drive/MyDrive/GenAI_Udemy_Projects/LSTM_Text_Prediction/requirements.txt (line 6)) (1.4.8)\n",
            "Requirement already satisfied: pillow>=8 in /usr/local/lib/python3.11/dist-packages (from matplotlib->-r /content/drive/MyDrive/GenAI_Udemy_Projects/LSTM_Text_Prediction/requirements.txt (line 6)) (11.1.0)\n",
            "Requirement already satisfied: pyparsing>=2.3.1 in /usr/local/lib/python3.11/dist-packages (from matplotlib->-r /content/drive/MyDrive/GenAI_Udemy_Projects/LSTM_Text_Prediction/requirements.txt (line 6)) (3.2.1)\n",
            "Requirement already satisfied: altair<6,>=4.0 in /usr/local/lib/python3.11/dist-packages (from streamlit->-r /content/drive/MyDrive/GenAI_Udemy_Projects/LSTM_Text_Prediction/requirements.txt (line 7)) (5.5.0)\n",
            "Requirement already satisfied: blinker<2,>=1.0.0 in /usr/local/lib/python3.11/dist-packages (from streamlit->-r /content/drive/MyDrive/GenAI_Udemy_Projects/LSTM_Text_Prediction/requirements.txt (line 7)) (1.9.0)\n",
            "Requirement already satisfied: cachetools<6,>=4.0 in /usr/local/lib/python3.11/dist-packages (from streamlit->-r /content/drive/MyDrive/GenAI_Udemy_Projects/LSTM_Text_Prediction/requirements.txt (line 7)) (5.5.1)\n",
            "Requirement already satisfied: click<9,>=7.0 in /usr/local/lib/python3.11/dist-packages (from streamlit->-r /content/drive/MyDrive/GenAI_Udemy_Projects/LSTM_Text_Prediction/requirements.txt (line 7)) (8.1.8)\n",
            "Requirement already satisfied: pyarrow>=7.0 in /usr/local/lib/python3.11/dist-packages (from streamlit->-r /content/drive/MyDrive/GenAI_Udemy_Projects/LSTM_Text_Prediction/requirements.txt (line 7)) (17.0.0)\n",
            "Requirement already satisfied: rich<14,>=10.14.0 in /usr/local/lib/python3.11/dist-packages (from streamlit->-r /content/drive/MyDrive/GenAI_Udemy_Projects/LSTM_Text_Prediction/requirements.txt (line 7)) (13.9.4)\n",
            "Requirement already satisfied: tenacity<10,>=8.1.0 in /usr/local/lib/python3.11/dist-packages (from streamlit->-r /content/drive/MyDrive/GenAI_Udemy_Projects/LSTM_Text_Prediction/requirements.txt (line 7)) (9.0.0)\n",
            "Requirement already satisfied: toml<2,>=0.10.1 in /usr/local/lib/python3.11/dist-packages (from streamlit->-r /content/drive/MyDrive/GenAI_Udemy_Projects/LSTM_Text_Prediction/requirements.txt (line 7)) (0.10.2)\n",
            "Requirement already satisfied: watchdog<7,>=2.1.5 in /usr/local/lib/python3.11/dist-packages (from streamlit->-r /content/drive/MyDrive/GenAI_Udemy_Projects/LSTM_Text_Prediction/requirements.txt (line 7)) (6.0.0)\n",
            "Requirement already satisfied: gitpython!=3.1.19,<4,>=3.0.7 in /usr/local/lib/python3.11/dist-packages (from streamlit->-r /content/drive/MyDrive/GenAI_Udemy_Projects/LSTM_Text_Prediction/requirements.txt (line 7)) (3.1.44)\n",
            "Requirement already satisfied: pydeck<1,>=0.8.0b4 in /usr/local/lib/python3.11/dist-packages (from streamlit->-r /content/drive/MyDrive/GenAI_Udemy_Projects/LSTM_Text_Prediction/requirements.txt (line 7)) (0.9.1)\n",
            "Requirement already satisfied: tornado<7,>=6.0.3 in /usr/local/lib/python3.11/dist-packages (from streamlit->-r /content/drive/MyDrive/GenAI_Udemy_Projects/LSTM_Text_Prediction/requirements.txt (line 7)) (6.4.2)\n",
            "Requirement already satisfied: jinja2 in /usr/local/lib/python3.11/dist-packages (from altair<6,>=4.0->streamlit->-r /content/drive/MyDrive/GenAI_Udemy_Projects/LSTM_Text_Prediction/requirements.txt (line 7)) (3.1.5)\n",
            "Requirement already satisfied: jsonschema>=3.0 in /usr/local/lib/python3.11/dist-packages (from altair<6,>=4.0->streamlit->-r /content/drive/MyDrive/GenAI_Udemy_Projects/LSTM_Text_Prediction/requirements.txt (line 7)) (4.23.0)\n",
            "Requirement already satisfied: narwhals>=1.14.2 in /usr/local/lib/python3.11/dist-packages (from altair<6,>=4.0->streamlit->-r /content/drive/MyDrive/GenAI_Udemy_Projects/LSTM_Text_Prediction/requirements.txt (line 7)) (1.24.1)\n",
            "Requirement already satisfied: wheel<1.0,>=0.23.0 in /usr/local/lib/python3.11/dist-packages (from astunparse>=1.6.0->tensorflow->-r /content/drive/MyDrive/GenAI_Udemy_Projects/LSTM_Text_Prediction/requirements.txt (line 1)) (0.45.1)\n",
            "Requirement already satisfied: gitdb<5,>=4.0.1 in /usr/local/lib/python3.11/dist-packages (from gitpython!=3.1.19,<4,>=3.0.7->streamlit->-r /content/drive/MyDrive/GenAI_Udemy_Projects/LSTM_Text_Prediction/requirements.txt (line 7)) (4.0.12)\n",
            "Requirement already satisfied: pyasn1-modules>=0.2.1 in /usr/local/lib/python3.11/dist-packages (from google-auth<3,>=1.6.3->tensorboard->-r /content/drive/MyDrive/GenAI_Udemy_Projects/LSTM_Text_Prediction/requirements.txt (line 5)) (0.4.1)\n",
            "Requirement already satisfied: rsa<5,>=3.1.4 in /usr/local/lib/python3.11/dist-packages (from google-auth<3,>=1.6.3->tensorboard->-r /content/drive/MyDrive/GenAI_Udemy_Projects/LSTM_Text_Prediction/requirements.txt (line 5)) (4.9)\n",
            "Requirement already satisfied: requests-oauthlib>=0.7.0 in /usr/local/lib/python3.11/dist-packages (from google-auth-oauthlib<2,>=0.5->tensorboard->-r /content/drive/MyDrive/GenAI_Udemy_Projects/LSTM_Text_Prediction/requirements.txt (line 5)) (1.3.1)\n",
            "Requirement already satisfied: charset-normalizer<4,>=2 in /usr/local/lib/python3.11/dist-packages (from requests<3,>=2.21.0->tensorboard->-r /content/drive/MyDrive/GenAI_Udemy_Projects/LSTM_Text_Prediction/requirements.txt (line 5)) (3.4.1)\n",
            "Requirement already satisfied: idna<4,>=2.5 in /usr/local/lib/python3.11/dist-packages (from requests<3,>=2.21.0->tensorboard->-r /content/drive/MyDrive/GenAI_Udemy_Projects/LSTM_Text_Prediction/requirements.txt (line 5)) (3.10)\n",
            "Requirement already satisfied: urllib3<3,>=1.21.1 in /usr/local/lib/python3.11/dist-packages (from requests<3,>=2.21.0->tensorboard->-r /content/drive/MyDrive/GenAI_Udemy_Projects/LSTM_Text_Prediction/requirements.txt (line 5)) (2.3.0)\n",
            "Requirement already satisfied: certifi>=2017.4.17 in /usr/local/lib/python3.11/dist-packages (from requests<3,>=2.21.0->tensorboard->-r /content/drive/MyDrive/GenAI_Udemy_Projects/LSTM_Text_Prediction/requirements.txt (line 5)) (2024.12.14)\n",
            "Requirement already satisfied: markdown-it-py>=2.2.0 in /usr/local/lib/python3.11/dist-packages (from rich<14,>=10.14.0->streamlit->-r /content/drive/MyDrive/GenAI_Udemy_Projects/LSTM_Text_Prediction/requirements.txt (line 7)) (3.0.0)\n",
            "Requirement already satisfied: pygments<3.0.0,>=2.13.0 in /usr/local/lib/python3.11/dist-packages (from rich<14,>=10.14.0->streamlit->-r /content/drive/MyDrive/GenAI_Udemy_Projects/LSTM_Text_Prediction/requirements.txt (line 7)) (2.18.0)\n",
            "Requirement already satisfied: MarkupSafe>=2.1.1 in /usr/local/lib/python3.11/dist-packages (from werkzeug>=1.0.1->tensorboard->-r /content/drive/MyDrive/GenAI_Udemy_Projects/LSTM_Text_Prediction/requirements.txt (line 5)) (3.0.2)\n",
            "Requirement already satisfied: smmap<6,>=3.0.1 in /usr/local/lib/python3.11/dist-packages (from gitdb<5,>=4.0.1->gitpython!=3.1.19,<4,>=3.0.7->streamlit->-r /content/drive/MyDrive/GenAI_Udemy_Projects/LSTM_Text_Prediction/requirements.txt (line 7)) (5.0.2)\n",
            "Requirement already satisfied: attrs>=22.2.0 in /usr/local/lib/python3.11/dist-packages (from jsonschema>=3.0->altair<6,>=4.0->streamlit->-r /content/drive/MyDrive/GenAI_Udemy_Projects/LSTM_Text_Prediction/requirements.txt (line 7)) (25.1.0)\n",
            "Requirement already satisfied: jsonschema-specifications>=2023.03.6 in /usr/local/lib/python3.11/dist-packages (from jsonschema>=3.0->altair<6,>=4.0->streamlit->-r /content/drive/MyDrive/GenAI_Udemy_Projects/LSTM_Text_Prediction/requirements.txt (line 7)) (2024.10.1)\n",
            "Requirement already satisfied: referencing>=0.28.4 in /usr/local/lib/python3.11/dist-packages (from jsonschema>=3.0->altair<6,>=4.0->streamlit->-r /content/drive/MyDrive/GenAI_Udemy_Projects/LSTM_Text_Prediction/requirements.txt (line 7)) (0.36.2)\n",
            "Requirement already satisfied: rpds-py>=0.7.1 in /usr/local/lib/python3.11/dist-packages (from jsonschema>=3.0->altair<6,>=4.0->streamlit->-r /content/drive/MyDrive/GenAI_Udemy_Projects/LSTM_Text_Prediction/requirements.txt (line 7)) (0.22.3)\n",
            "Requirement already satisfied: mdurl~=0.1 in /usr/local/lib/python3.11/dist-packages (from markdown-it-py>=2.2.0->rich<14,>=10.14.0->streamlit->-r /content/drive/MyDrive/GenAI_Udemy_Projects/LSTM_Text_Prediction/requirements.txt (line 7)) (0.1.2)\n",
            "Requirement already satisfied: pyasn1<0.7.0,>=0.4.6 in /usr/local/lib/python3.11/dist-packages (from pyasn1-modules>=0.2.1->google-auth<3,>=1.6.3->tensorboard->-r /content/drive/MyDrive/GenAI_Udemy_Projects/LSTM_Text_Prediction/requirements.txt (line 5)) (0.6.1)\n",
            "Requirement already satisfied: oauthlib>=3.0.0 in /usr/local/lib/python3.11/dist-packages (from requests-oauthlib>=0.7.0->google-auth-oauthlib<2,>=0.5->tensorboard->-r /content/drive/MyDrive/GenAI_Udemy_Projects/LSTM_Text_Prediction/requirements.txt (line 5)) (3.2.2)\n"
          ]
        }
      ],
      "source": [
        "!pip install -r /content/drive/MyDrive/GenAI_Udemy_Projects/LSTM_Text_Prediction/requirements.txt"
      ]
    },
    {
      "cell_type": "code",
      "source": [
        "# Data Collection\n",
        "import nltk\n",
        "nltk.download('gutenberg')\n",
        "from nltk.corpus import gutenberg\n",
        "\n",
        "import pandas as pd\n",
        "\n",
        "# Load the dataset\n",
        "data = gutenberg.raw('shakespeare-hamlet.txt')\n",
        "# saving to file\n",
        "with open('hamlet.txt', 'w') as file:\n",
        "  file.write(data)"
      ],
      "metadata": {
        "colab": {
          "base_uri": "https://localhost:8080/"
        },
        "id": "cNZt2rj--6iV",
        "outputId": "fcd4a47f-6a39-40e9-ae3a-38965e4fe39c"
      },
      "execution_count": null,
      "outputs": [
        {
          "output_type": "stream",
          "name": "stderr",
          "text": [
            "[nltk_data] Downloading package gutenberg to /root/nltk_data...\n",
            "[nltk_data]   Unzipping corpora/gutenberg.zip.\n"
          ]
        }
      ]
    }
  ]
}
